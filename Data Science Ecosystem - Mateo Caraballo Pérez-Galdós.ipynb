{
  "metadata": {
    "kernelspec": {
      "name": "python",
      "display_name": "Python (Pyodide)",
      "language": "python"
    },
    "language_info": {
      "codemirror_mode": {
        "name": "python",
        "version": 3
      },
      "file_extension": ".py",
      "mimetype": "text/x-python",
      "name": "python",
      "nbconvert_exporter": "python",
      "pygments_lexer": "ipython3",
      "version": "3.8"
    }
  },
  "nbformat_minor": 4,
  "nbformat": 4,
  "cells": [
    {
      "cell_type": "markdown",
      "source": "## Data Science Tools and Ecosystem ##",
      "metadata": {}
    },
    {
      "cell_type": "markdown",
      "source": "In this notebook, Data Science Tools and Ecosystem are summarized.",
      "metadata": {}
    },
    {
      "cell_type": "markdown",
      "source": "**Objectives:**\n\n- List popular languages for Data Science\n- Identify commonly used libraries in Data Science\n- Practice creating tables and format content using **Markdown** and **Code** \n- Perform basic arithmetic operations in Python\n- Convert units (e.g., minutes to hours) using Python expressions",
      "metadata": {}
    },
    {
      "cell_type": "markdown",
      "source": "Some of the popular languages that Data Scientists use are:\n1. Python – Widely used for data analysis, machine learning, and data visualization due to libraries like NumPy, pandas, TensorFlow, and Matplotlib.\n2. R – A language specifically designed for statistical computing and graphics. It's popular for data analysis and statistical modeling.\n3. SQL – Essential for querying and managing databases.\n4. Julia – Known for high-performance numerical computing and suited for large-scale data analysis.\n5. Scala – Used in conjunction with Apache Spark for big data processing.\n6. Java – Useful for large-scale data systems and integrating with big data technologies like Hadoop.Python – Widely used for data analysis, machine learning, and data visualization due to libraries like NumPy, pandas, TensorFlow, and Matplotlib.\n",
      "metadata": {}
    },
    {
      "cell_type": "markdown",
      "source": "Some of the commonly used libraries used by Data Scientists include:\n1. NumPy – Fundamental package for numerical computing and array operations.\n2. pandas – Used for data manipulation and analysis, particularly for working with structured data (dataframes).\n3. TensorFlow – An open-source library for machine learning and deep learning, developed by Google.\n4. Keras – A high-level neural networks API, built on top of TensorFlow for fast experimentation.",
      "metadata": {}
    },
    {
      "cell_type": "markdown",
      "source": " ## Data Science Tools\n\n| Data Science Tools        |\n|---------------------------|\n| Jupyter Notebooks          |\n| RStudio                    |\n| Apache Zeppelin            |\n \n\n ",
      "metadata": {}
    },
    {
      "cell_type": "markdown",
      "source": "### Below are a few examples of evaluating arithmetic expressions in Python\n\nIn Python, arithmetic expressions can be evaluated using operators such as `+`, `-`, `*`, and `/`. Here are a few basic examples:\n\n- `2 + 3` will output `5`\n- `10 - 4` will output `6`\n- `5 * 6` will output `30`\n- `8 / 2` will output `4.0`",
      "metadata": {}
    },
    {
      "cell_type": "markdown",
      "source": " This a simple arithmetic expression to mutiply then add integers.\n",
      "metadata": {}
    },
    {
      "cell_type": "code",
      "source": "(3*4)+5 ",
      "metadata": {
        "trusted": true
      },
      "outputs": [
        {
          "execution_count": 1,
          "output_type": "execute_result",
          "data": {
            "text/plain": "17"
          },
          "metadata": {}
        }
      ],
      "execution_count": 1
    },
    {
      "cell_type": "markdown",
      "source": "This will convert 200 minutes to hours by diving by 60",
      "metadata": {}
    },
    {
      "cell_type": "code",
      "source": "minutes = 200\nhours = minutes / 60\nhours",
      "metadata": {
        "trusted": true
      },
      "outputs": [
        {
          "execution_count": 2,
          "output_type": "execute_result",
          "data": {
            "text/plain": "3.3333333333333335"
          },
          "metadata": {}
        }
      ],
      "execution_count": 2
    },
    {
      "cell_type": "code",
      "source": "",
      "metadata": {
        "trusted": true
      },
      "outputs": [],
      "execution_count": null
    },
    {
      "cell_type": "code",
      "source": "",
      "metadata": {
        "trusted": true
      },
      "outputs": [],
      "execution_count": null
    },
    {
      "cell_type": "markdown",
      "source": "## Author: ##\n\nMateo Caraballo Pérez-Galdós - Madrid - Spain - September, 2024. ",
      "metadata": {}
    },
    {
      "cell_type": "code",
      "source": "",
      "metadata": {
        "trusted": true
      },
      "outputs": [],
      "execution_count": null
    }
  ]
}